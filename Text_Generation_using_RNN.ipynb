{
  "nbformat": 4,
  "nbformat_minor": 0,
  "metadata": {
    "colab": {
      "name": "Text_Generation using RNN.ipynb",
      "version": "0.3.2",
      "provenance": [],
      "collapsed_sections": [],
      "include_colab_link": true
    },
    "kernelspec": {
      "name": "python3",
      "display_name": "Python 3"
    },
    "accelerator": "GPU"
  },
  "cells": [
    {
      "cell_type": "markdown",
      "metadata": {
        "id": "view-in-github",
        "colab_type": "text"
      },
      "source": [
        "<a href=\"https://colab.research.google.com/github/priyanshiyadavnitsgr/Artificial-Neural-Network/blob/master/Text_Generation_using_RNN.ipynb\" target=\"_parent\"><img src=\"https://colab.research.google.com/assets/colab-badge.svg\" alt=\"Open In Colab\"/></a>"
      ]
    },
    {
      "cell_type": "code",
      "metadata": {
        "id": "ivjRyku3sMSP",
        "colab_type": "code",
        "colab": {}
      },
      "source": [
        "import pandas as pd\n",
        "import matplotlib.pyplot as plt\n",
        "import numpy as np"
      ],
      "execution_count": 0,
      "outputs": []
    },
    {
      "cell_type": "code",
      "metadata": {
        "id": "-BmtSddNsWDS",
        "colab_type": "code",
        "colab": {}
      },
      "source": [
        "text=open('/content/Leliani.txt').read()\n",
        "text=text.lower()"
      ],
      "execution_count": 0,
      "outputs": []
    },
    {
      "cell_type": "code",
      "metadata": {
        "id": "oIXDQAcR0cVc",
        "colab_type": "code",
        "outputId": "eadb40da-390a-4856-e494-602e2a8c491f",
        "colab": {
          "base_uri": "https://localhost:8080/",
          "height": 55
        }
      },
      "source": [
        "text"
      ],
      "execution_count": 0,
      "outputs": [
        {
          "output_type": "execute_result",
          "data": {
            "text/plain": [
              "'\\ufeff3\\nthe cliff\\nhe drags her by the feet. red dirt stains her face. she tries to scream, i can see because the veins in her neck pulse and her chest heaves, but the ball of oil soaked rags he has stuffed in her mouth stops her.\\n\\nat the foot of the mountain he snatches and flings her over his shoulder like a rambling man’s pack. she smacks at the back of his legs with her two fists making his knees wobble. he throws her down in the dirt. her eyes say she wants to spit the ball of rags out, even more so when he produces a lighter in front of her face, and says, “keep going you little slut and i’ll blow your fucking face off.”\\n\\nher eyes are half closed, like the moon waiting against the sky behind the mountain. he drags her by the arms now, one of them releases itself from the socket. she screams in to the oily rag.\\n\\n“all we need to do is get you to the top of this mountain, then you can meet the real me.”\\n\\nshe won’t meet the real him. he’ll be dead when he reaches this plateau up here.\\n\\na ballet shoe hangs by its thin ribbon lace in a bottle brush bush. it swings ever so gently. the canyon inhales and birds settle in tall tree tops; as it exhales they flutter away; but not the ballet shoe, it stays attached to the bottle brush. right next to the soccer boot.\\n\\nthe soccer boot is a sacrifice i was forced to make but the ballet shoe, never will i make the same mistake. i won’t let him know that i am here, waiting to steal his prey again.\\n\\nthe half moon has sailed further up in to the sky which has now turned from pale blue to purple velvet.\\n\\nwhen he throws her body down over the top ledge, she does not hear her head hit the rock. i do though.\\n\\nhowls echo through the canyon.\\n\\nhe snatches her again and walks along the plateau. he trips on the wire, she falls forward and lands in a bottle brush and that’s when i kick him in the head, it stops him moving.\\n\\ni take the oil rag from her mouth and she coughs. “i’m sorry, dad,” she says.\\n\\ni try to say that i am, but the tears come.\\n\\nshe reveals a small soccer boot from her pocket with her good arm. “i tried to find jake.”\\n\\ni nod. the shadow moves. then the anger comes.\\n\\ni never wanted my daughter to see this side of me but i’ve no choice. i grab the shadow, force him in to a head lock and stab my finger in to each of his eyes.\\n\\nthe howls are closer now.\\n\\ni tie him up to a eucalyptus tree.\\n\\non the way back down the mountain, the howls echo.\\n\\n“he’s all yours boys; i just nipped him at the heels for you.”\\n\\ni’ve left uncle charlie for the wild dogs.'"
            ]
          },
          "metadata": {
            "tags": []
          },
          "execution_count": 4
        }
      ]
    },
    {
      "cell_type": "markdown",
      "metadata": {
        "id": "hSnpDrMe0hDP",
        "colab_type": "text"
      },
      "source": [
        "### We will be using word by word mapping"
      ]
    },
    {
      "cell_type": "code",
      "metadata": {
        "id": "KEwcPttF0dxz",
        "colab_type": "code",
        "colab": {}
      },
      "source": [
        "characters=sorted(list(set(text)))\n",
        "\n",
        "n_to_char={n: char for n, char in enumerate(characters)}\n",
        "char_to_n={char: n for n, char in enumerate(characters)}"
      ],
      "execution_count": 0,
      "outputs": []
    },
    {
      "cell_type": "code",
      "metadata": {
        "id": "2xGnaQHD04x-",
        "colab_type": "code",
        "outputId": "de9f813b-5c15-4005-ff2c-12b1dc2f7b65",
        "colab": {
          "base_uri": "https://localhost:8080/",
          "height": 621
        }
      },
      "source": [
        "n_to_char"
      ],
      "execution_count": 0,
      "outputs": [
        {
          "output_type": "execute_result",
          "data": {
            "text/plain": [
              "{0: '\\n',\n",
              " 1: ' ',\n",
              " 2: ',',\n",
              " 3: '.',\n",
              " 4: '3',\n",
              " 5: ';',\n",
              " 6: 'a',\n",
              " 7: 'b',\n",
              " 8: 'c',\n",
              " 9: 'd',\n",
              " 10: 'e',\n",
              " 11: 'f',\n",
              " 12: 'g',\n",
              " 13: 'h',\n",
              " 14: 'i',\n",
              " 15: 'j',\n",
              " 16: 'k',\n",
              " 17: 'l',\n",
              " 18: 'm',\n",
              " 19: 'n',\n",
              " 20: 'o',\n",
              " 21: 'p',\n",
              " 22: 'r',\n",
              " 23: 's',\n",
              " 24: 't',\n",
              " 25: 'u',\n",
              " 26: 'v',\n",
              " 27: 'w',\n",
              " 28: 'x',\n",
              " 29: 'y',\n",
              " 30: '’',\n",
              " 31: '“',\n",
              " 32: '”',\n",
              " 33: '\\ufeff'}"
            ]
          },
          "metadata": {
            "tags": []
          },
          "execution_count": 6
        }
      ]
    },
    {
      "cell_type": "code",
      "metadata": {
        "id": "GrvUoEog2bFH",
        "colab_type": "code",
        "outputId": "7f6994d9-2445-4763-8d17-19beda37f051",
        "colab": {
          "base_uri": "https://localhost:8080/",
          "height": 621
        }
      },
      "source": [
        "char_to_n"
      ],
      "execution_count": 0,
      "outputs": [
        {
          "output_type": "execute_result",
          "data": {
            "text/plain": [
              "{'\\n': 0,\n",
              " ' ': 1,\n",
              " ',': 2,\n",
              " '.': 3,\n",
              " '3': 4,\n",
              " ';': 5,\n",
              " 'a': 6,\n",
              " 'b': 7,\n",
              " 'c': 8,\n",
              " 'd': 9,\n",
              " 'e': 10,\n",
              " 'f': 11,\n",
              " 'g': 12,\n",
              " 'h': 13,\n",
              " 'i': 14,\n",
              " 'j': 15,\n",
              " 'k': 16,\n",
              " 'l': 17,\n",
              " 'm': 18,\n",
              " 'n': 19,\n",
              " 'o': 20,\n",
              " 'p': 21,\n",
              " 'r': 22,\n",
              " 's': 23,\n",
              " 't': 24,\n",
              " 'u': 25,\n",
              " 'v': 26,\n",
              " 'w': 27,\n",
              " 'x': 28,\n",
              " 'y': 29,\n",
              " '’': 30,\n",
              " '“': 31,\n",
              " '”': 32,\n",
              " '\\ufeff': 33}"
            ]
          },
          "metadata": {
            "tags": []
          },
          "execution_count": 7
        }
      ]
    },
    {
      "cell_type": "markdown",
      "metadata": {
        "id": "a3bhdnaA589E",
        "colab_type": "text"
      },
      "source": [
        "#### Our aim here is to designate each character an interger value. "
      ]
    },
    {
      "cell_type": "code",
      "metadata": {
        "id": "V9PR9U-X2qdA",
        "colab_type": "code",
        "colab": {}
      },
      "source": [
        "x=[]\n",
        "y=[]\n",
        "\n",
        "length=len(text)\n",
        "seq_length=100\n",
        "for i in range(100, length, 1):\n",
        "  sequence=text[i-100:i]\n",
        "  label=text[i]\n",
        "  x.append([char_to_n[char] for char in sequence])\n",
        "  y.append(char_to_n[label])"
      ],
      "execution_count": 0,
      "outputs": []
    },
    {
      "cell_type": "code",
      "metadata": {
        "id": "IkMUGdYz7j3x",
        "colab_type": "code",
        "colab": {}
      },
      "source": [
        "x_modified=np.reshape(x, (len(x), seq_length,1))\n",
        "x_modified = x_modified / float(len(characters))"
      ],
      "execution_count": 0,
      "outputs": []
    },
    {
      "cell_type": "code",
      "metadata": {
        "id": "8GnmBjhd7uxS",
        "colab_type": "code",
        "outputId": "ab621742-71f6-45c8-d34b-a11795c8dde3",
        "colab": {
          "base_uri": "https://localhost:8080/",
          "height": 888
        }
      },
      "source": [
        "x_modified"
      ],
      "execution_count": 0,
      "outputs": [
        {
          "output_type": "execute_result",
          "data": {
            "text/plain": [
              "array([[[0.97058824],\n",
              "        [0.11764706],\n",
              "        [0.        ],\n",
              "        ...,\n",
              "        [0.29411765],\n",
              "        [0.23529412],\n",
              "        [0.17647059]],\n",
              "\n",
              "       [[0.11764706],\n",
              "        [0.        ],\n",
              "        [0.70588235],\n",
              "        ...,\n",
              "        [0.23529412],\n",
              "        [0.17647059],\n",
              "        [0.73529412]],\n",
              "\n",
              "       [[0.        ],\n",
              "        [0.70588235],\n",
              "        [0.38235294],\n",
              "        ...,\n",
              "        [0.17647059],\n",
              "        [0.73529412],\n",
              "        [0.67647059]],\n",
              "\n",
              "       ...,\n",
              "\n",
              "       [[0.88235294],\n",
              "        [0.67647059],\n",
              "        [0.02941176],\n",
              "        ...,\n",
              "        [0.02941176],\n",
              "        [0.26470588],\n",
              "        [0.58823529]],\n",
              "\n",
              "       [[0.67647059],\n",
              "        [0.02941176],\n",
              "        [0.17647059],\n",
              "        ...,\n",
              "        [0.26470588],\n",
              "        [0.58823529],\n",
              "        [0.35294118]],\n",
              "\n",
              "       [[0.02941176],\n",
              "        [0.17647059],\n",
              "        [0.5       ],\n",
              "        ...,\n",
              "        [0.58823529],\n",
              "        [0.35294118],\n",
              "        [0.67647059]]])"
            ]
          },
          "metadata": {
            "tags": []
          },
          "execution_count": 10
        }
      ]
    },
    {
      "cell_type": "code",
      "metadata": {
        "id": "TB6ueGRxA81r",
        "colab_type": "code",
        "outputId": "4a3db161-f29a-4abb-937e-0ff14dac8f61",
        "colab": {
          "base_uri": "https://localhost:8080/",
          "height": 35
        }
      },
      "source": [
        "x_modified.shape"
      ],
      "execution_count": 0,
      "outputs": [
        {
          "output_type": "execute_result",
          "data": {
            "text/plain": [
              "(2423, 100, 1)"
            ]
          },
          "metadata": {
            "tags": []
          },
          "execution_count": 11
        }
      ]
    },
    {
      "cell_type": "code",
      "metadata": {
        "id": "5IEfTUdT7skm",
        "colab_type": "code",
        "outputId": "f5cdae6f-76bf-4795-95f6-f8915b8174d3",
        "colab": {
          "base_uri": "https://localhost:8080/",
          "height": 35
        }
      },
      "source": [
        "from keras.utils import np_utils\n",
        "y_modified=np_utils.to_categorical(y)"
      ],
      "execution_count": 0,
      "outputs": [
        {
          "output_type": "stream",
          "text": [
            "Using TensorFlow backend.\n"
          ],
          "name": "stderr"
        }
      ]
    },
    {
      "cell_type": "code",
      "metadata": {
        "id": "KFOycyPl9xs6",
        "colab_type": "code",
        "outputId": "5eede483-2699-45ca-8e31-530e24e5859a",
        "colab": {
          "base_uri": "https://localhost:8080/",
          "height": 141
        }
      },
      "source": [
        "y_modified"
      ],
      "execution_count": 0,
      "outputs": [
        {
          "output_type": "execute_result",
          "data": {
            "text/plain": [
              "array([[0., 0., 0., ..., 0., 0., 0.],\n",
              "       [0., 0., 0., ..., 0., 0., 0.],\n",
              "       [0., 0., 0., ..., 0., 0., 0.],\n",
              "       ...,\n",
              "       [0., 0., 0., ..., 0., 0., 0.],\n",
              "       [0., 0., 0., ..., 0., 0., 0.],\n",
              "       [0., 0., 0., ..., 0., 0., 0.]], dtype=float32)"
            ]
          },
          "metadata": {
            "tags": []
          },
          "execution_count": 13
        }
      ]
    },
    {
      "cell_type": "code",
      "metadata": {
        "id": "3i9AbRVkBnF_",
        "colab_type": "code",
        "outputId": "36cbaa8c-bb04-4a8e-a56f-294d204d243f",
        "colab": {
          "base_uri": "https://localhost:8080/",
          "height": 35
        }
      },
      "source": [
        "y_modified.shape"
      ],
      "execution_count": 0,
      "outputs": [
        {
          "output_type": "execute_result",
          "data": {
            "text/plain": [
              "(2423, 33)"
            ]
          },
          "metadata": {
            "tags": []
          },
          "execution_count": 14
        }
      ]
    },
    {
      "cell_type": "markdown",
      "metadata": {
        "id": "MqywH7IZ-5at",
        "colab_type": "text"
      },
      "source": [
        "### Modelling"
      ]
    },
    {
      "cell_type": "code",
      "metadata": {
        "id": "rW2UBEeD-2kX",
        "colab_type": "code",
        "colab": {}
      },
      "source": [
        "from keras.layers import LSTM, Dropout, Dense\n",
        "from keras.models import Sequential\n"
      ],
      "execution_count": 0,
      "outputs": []
    },
    {
      "cell_type": "code",
      "metadata": {
        "id": "pYhuawjxB4ws",
        "colab_type": "code",
        "outputId": "9e472bd5-f230-41d9-8a59-24305cbb8ee3",
        "colab": {
          "base_uri": "https://localhost:8080/",
          "height": 250
        }
      },
      "source": [
        "model = Sequential()\n",
        "model.add(LSTM(700, input_shape=(x_modified.shape[1], x_modified.shape[2]), return_sequences=True))\n",
        "model.add(Dropout(0.2))\n",
        "model.add(LSTM(700, return_sequences=True))\n",
        "model.add(Dropout(0.2))\n",
        "model.add(LSTM(700))\n",
        "model.add(Dropout(0.2))\n",
        "model.add(Dense(y_modified.shape[1], activation='softmax'))"
      ],
      "execution_count": 0,
      "outputs": [
        {
          "output_type": "stream",
          "text": [
            "WARNING: Logging before flag parsing goes to stderr.\n",
            "W0903 12:34:48.877373 140149340411776 deprecation_wrapper.py:119] From /usr/local/lib/python3.6/dist-packages/keras/backend/tensorflow_backend.py:66: The name tf.get_default_graph is deprecated. Please use tf.compat.v1.get_default_graph instead.\n",
            "\n",
            "W0903 12:34:48.914919 140149340411776 deprecation_wrapper.py:119] From /usr/local/lib/python3.6/dist-packages/keras/backend/tensorflow_backend.py:541: The name tf.placeholder is deprecated. Please use tf.compat.v1.placeholder instead.\n",
            "\n",
            "W0903 12:34:48.920520 140149340411776 deprecation_wrapper.py:119] From /usr/local/lib/python3.6/dist-packages/keras/backend/tensorflow_backend.py:4432: The name tf.random_uniform is deprecated. Please use tf.random.uniform instead.\n",
            "\n",
            "W0903 12:34:50.125666 140149340411776 deprecation_wrapper.py:119] From /usr/local/lib/python3.6/dist-packages/keras/backend/tensorflow_backend.py:148: The name tf.placeholder_with_default is deprecated. Please use tf.compat.v1.placeholder_with_default instead.\n",
            "\n",
            "W0903 12:34:50.135571 140149340411776 deprecation.py:506] From /usr/local/lib/python3.6/dist-packages/keras/backend/tensorflow_backend.py:3733: calling dropout (from tensorflow.python.ops.nn_ops) with keep_prob is deprecated and will be removed in a future version.\n",
            "Instructions for updating:\n",
            "Please use `rate` instead of `keep_prob`. Rate should be set to `rate = 1 - keep_prob`.\n"
          ],
          "name": "stderr"
        }
      ]
    },
    {
      "cell_type": "code",
      "metadata": {
        "id": "RQCBBoaaCqw0",
        "colab_type": "code",
        "outputId": "7e7f1613-c3cf-4f96-86a8-c76ece9d9ca9",
        "colab": {
          "base_uri": "https://localhost:8080/",
          "height": 108
        }
      },
      "source": [
        "model.compile(loss='categorical_crossentropy', optimizer='adam')"
      ],
      "execution_count": 0,
      "outputs": [
        {
          "output_type": "stream",
          "text": [
            "W0903 12:34:52.521862 140149340411776 deprecation_wrapper.py:119] From /usr/local/lib/python3.6/dist-packages/keras/optimizers.py:793: The name tf.train.Optimizer is deprecated. Please use tf.compat.v1.train.Optimizer instead.\n",
            "\n",
            "W0903 12:34:52.551152 140149340411776 deprecation_wrapper.py:119] From /usr/local/lib/python3.6/dist-packages/keras/backend/tensorflow_backend.py:3576: The name tf.log is deprecated. Please use tf.math.log instead.\n",
            "\n"
          ],
          "name": "stderr"
        }
      ]
    },
    {
      "cell_type": "code",
      "metadata": {
        "id": "jS8p5P7UDPE_",
        "colab_type": "code",
        "outputId": "60c48aeb-ce2b-4e50-a6ee-89e0ba7c4967",
        "colab": {
          "base_uri": "https://localhost:8080/",
          "height": 1000
        }
      },
      "source": [
        "model.fit(x_modified, y_modified, epochs=100, batch_size=50)"
      ],
      "execution_count": 78,
      "outputs": [
        {
          "output_type": "stream",
          "text": [
            "Epoch 1/100\n",
            "2423/2423 [==============================] - 27s 11ms/step - loss: 2.9353\n",
            "Epoch 2/100\n",
            "2423/2423 [==============================] - 27s 11ms/step - loss: 2.9259\n",
            "Epoch 3/100\n",
            "2423/2423 [==============================] - 27s 11ms/step - loss: 2.9310\n",
            "Epoch 4/100\n",
            "2423/2423 [==============================] - 27s 11ms/step - loss: 2.9310\n",
            "Epoch 5/100\n",
            "2423/2423 [==============================] - 27s 11ms/step - loss: 2.9312\n",
            "Epoch 6/100\n",
            "2423/2423 [==============================] - 27s 11ms/step - loss: 2.9286\n",
            "Epoch 7/100\n",
            "2423/2423 [==============================] - 27s 11ms/step - loss: 2.9322\n",
            "Epoch 8/100\n",
            "2423/2423 [==============================] - 27s 11ms/step - loss: 2.9343\n",
            "Epoch 9/100\n",
            "2423/2423 [==============================] - 27s 11ms/step - loss: 2.9302\n",
            "Epoch 10/100\n",
            "2423/2423 [==============================] - 27s 11ms/step - loss: 2.9327\n",
            "Epoch 11/100\n",
            "2423/2423 [==============================] - 27s 11ms/step - loss: 2.9300\n",
            "Epoch 12/100\n",
            "2423/2423 [==============================] - 27s 11ms/step - loss: 2.9324\n",
            "Epoch 13/100\n",
            "2423/2423 [==============================] - 27s 11ms/step - loss: 2.9326\n",
            "Epoch 14/100\n",
            "2423/2423 [==============================] - 27s 11ms/step - loss: 2.9272\n",
            "Epoch 15/100\n",
            "2423/2423 [==============================] - 27s 11ms/step - loss: 2.9288\n",
            "Epoch 16/100\n",
            "2423/2423 [==============================] - 27s 11ms/step - loss: 2.9343\n",
            "Epoch 17/100\n",
            "2423/2423 [==============================] - 27s 11ms/step - loss: 2.9316\n",
            "Epoch 18/100\n",
            "2423/2423 [==============================] - 27s 11ms/step - loss: 2.9335\n",
            "Epoch 19/100\n",
            "2423/2423 [==============================] - 27s 11ms/step - loss: 2.9325\n",
            "Epoch 20/100\n",
            "2423/2423 [==============================] - 27s 11ms/step - loss: 2.9347\n",
            "Epoch 21/100\n",
            "2423/2423 [==============================] - 27s 11ms/step - loss: 2.9314\n",
            "Epoch 22/100\n",
            "2423/2423 [==============================] - 27s 11ms/step - loss: 2.9325\n",
            "Epoch 23/100\n",
            "2423/2423 [==============================] - 27s 11ms/step - loss: 2.9308\n",
            "Epoch 24/100\n",
            "2423/2423 [==============================] - 27s 11ms/step - loss: 2.9311\n",
            "Epoch 25/100\n",
            "2423/2423 [==============================] - 27s 11ms/step - loss: 2.9290\n",
            "Epoch 26/100\n",
            "2423/2423 [==============================] - 27s 11ms/step - loss: 2.9340\n",
            "Epoch 27/100\n",
            "2423/2423 [==============================] - 27s 11ms/step - loss: 2.9331\n",
            "Epoch 28/100\n",
            "2423/2423 [==============================] - 27s 11ms/step - loss: 2.9319\n",
            "Epoch 29/100\n",
            "2423/2423 [==============================] - 27s 11ms/step - loss: 2.9318\n",
            "Epoch 30/100\n",
            "2423/2423 [==============================] - 27s 11ms/step - loss: 2.9323\n",
            "Epoch 31/100\n",
            "2423/2423 [==============================] - 27s 11ms/step - loss: 2.9355\n",
            "Epoch 32/100\n",
            "2423/2423 [==============================] - 27s 11ms/step - loss: 2.9331\n",
            "Epoch 33/100\n",
            "2423/2423 [==============================] - 27s 11ms/step - loss: 2.9317\n",
            "Epoch 34/100\n",
            "2423/2423 [==============================] - 27s 11ms/step - loss: 2.9313\n",
            "Epoch 35/100\n",
            "2423/2423 [==============================] - 27s 11ms/step - loss: 2.9375\n",
            "Epoch 36/100\n",
            "2423/2423 [==============================] - 27s 11ms/step - loss: 2.9291\n",
            "Epoch 37/100\n",
            "2423/2423 [==============================] - 27s 11ms/step - loss: 2.9338\n",
            "Epoch 38/100\n",
            "2423/2423 [==============================] - 27s 11ms/step - loss: 2.9302\n",
            "Epoch 39/100\n",
            "2423/2423 [==============================] - 27s 11ms/step - loss: 2.9304\n",
            "Epoch 40/100\n",
            "2423/2423 [==============================] - 27s 11ms/step - loss: 2.9315\n",
            "Epoch 41/100\n",
            "2423/2423 [==============================] - 27s 11ms/step - loss: 2.9303\n",
            "Epoch 42/100\n",
            "2423/2423 [==============================] - 27s 11ms/step - loss: 2.9323\n",
            "Epoch 43/100\n",
            "2423/2423 [==============================] - 27s 11ms/step - loss: 2.9353\n",
            "Epoch 44/100\n",
            "2423/2423 [==============================] - 27s 11ms/step - loss: 2.9336\n",
            "Epoch 45/100\n",
            "2423/2423 [==============================] - 27s 11ms/step - loss: 2.9299\n",
            "Epoch 46/100\n",
            "2423/2423 [==============================] - 27s 11ms/step - loss: 2.9334\n",
            "Epoch 47/100\n",
            "2423/2423 [==============================] - 27s 11ms/step - loss: 2.9371\n",
            "Epoch 48/100\n",
            "2423/2423 [==============================] - 27s 11ms/step - loss: 2.9315\n",
            "Epoch 49/100\n",
            "2423/2423 [==============================] - 27s 11ms/step - loss: 2.9342\n",
            "Epoch 50/100\n",
            "2423/2423 [==============================] - 27s 11ms/step - loss: 2.9333\n",
            "Epoch 51/100\n",
            "2423/2423 [==============================] - 27s 11ms/step - loss: 2.9315\n",
            "Epoch 52/100\n",
            "2423/2423 [==============================] - 27s 11ms/step - loss: 2.9324\n",
            "Epoch 53/100\n",
            "2423/2423 [==============================] - 27s 11ms/step - loss: 2.9331\n",
            "Epoch 54/100\n",
            "2423/2423 [==============================] - 27s 11ms/step - loss: 2.9304\n",
            "Epoch 55/100\n",
            "2423/2423 [==============================] - 27s 11ms/step - loss: 2.9294\n",
            "Epoch 56/100\n",
            "2423/2423 [==============================] - 27s 11ms/step - loss: 2.9327\n",
            "Epoch 57/100\n",
            "2423/2423 [==============================] - 27s 11ms/step - loss: 2.9300\n",
            "Epoch 58/100\n",
            "2423/2423 [==============================] - 27s 11ms/step - loss: 2.9329\n",
            "Epoch 59/100\n",
            "2423/2423 [==============================] - 27s 11ms/step - loss: 2.9336\n",
            "Epoch 60/100\n",
            "2423/2423 [==============================] - 27s 11ms/step - loss: 2.9305\n",
            "Epoch 61/100\n",
            "2423/2423 [==============================] - 27s 11ms/step - loss: 2.9296\n",
            "Epoch 62/100\n",
            "2423/2423 [==============================] - 27s 11ms/step - loss: 2.9304\n",
            "Epoch 63/100\n",
            "2423/2423 [==============================] - 27s 11ms/step - loss: 2.9334\n",
            "Epoch 64/100\n",
            "2423/2423 [==============================] - 27s 11ms/step - loss: 2.9333\n",
            "Epoch 65/100\n",
            "2423/2423 [==============================] - 27s 11ms/step - loss: 2.9346\n",
            "Epoch 66/100\n",
            "2423/2423 [==============================] - 27s 11ms/step - loss: 2.9325\n",
            "Epoch 67/100\n",
            "2423/2423 [==============================] - 27s 11ms/step - loss: 2.9312\n",
            "Epoch 68/100\n",
            "2423/2423 [==============================] - 27s 11ms/step - loss: 2.9346\n",
            "Epoch 69/100\n",
            "2423/2423 [==============================] - 27s 11ms/step - loss: 2.9343\n",
            "Epoch 70/100\n",
            "2423/2423 [==============================] - 27s 11ms/step - loss: 2.9301\n",
            "Epoch 71/100\n",
            "2423/2423 [==============================] - 27s 11ms/step - loss: 2.9304\n",
            "Epoch 72/100\n",
            "2423/2423 [==============================] - 27s 11ms/step - loss: 2.9326\n",
            "Epoch 73/100\n",
            "2423/2423 [==============================] - 27s 11ms/step - loss: 2.9307\n",
            "Epoch 74/100\n",
            "2423/2423 [==============================] - 27s 11ms/step - loss: 2.9325\n",
            "Epoch 75/100\n",
            "2423/2423 [==============================] - 27s 11ms/step - loss: 2.9393\n",
            "Epoch 76/100\n",
            "2423/2423 [==============================] - 27s 11ms/step - loss: 2.9341\n",
            "Epoch 77/100\n",
            "2423/2423 [==============================] - 27s 11ms/step - loss: 2.9372\n",
            "Epoch 78/100\n",
            "2423/2423 [==============================] - 27s 11ms/step - loss: 2.9339\n",
            "Epoch 79/100\n",
            "2423/2423 [==============================] - 27s 11ms/step - loss: 2.9340\n",
            "Epoch 80/100\n",
            "2423/2423 [==============================] - 27s 11ms/step - loss: 2.9312\n",
            "Epoch 81/100\n",
            "2423/2423 [==============================] - 27s 11ms/step - loss: 2.9322\n",
            "Epoch 82/100\n",
            "2423/2423 [==============================] - 27s 11ms/step - loss: 2.9313\n",
            "Epoch 83/100\n",
            "2423/2423 [==============================] - 27s 11ms/step - loss: 2.9316\n",
            "Epoch 84/100\n",
            "2423/2423 [==============================] - 27s 11ms/step - loss: 2.9299\n",
            "Epoch 85/100\n",
            "2423/2423 [==============================] - 27s 11ms/step - loss: 2.9322\n",
            "Epoch 86/100\n",
            "2423/2423 [==============================] - 27s 11ms/step - loss: 2.9336\n",
            "Epoch 87/100\n",
            "2423/2423 [==============================] - 27s 11ms/step - loss: 2.9306\n",
            "Epoch 88/100\n",
            "2423/2423 [==============================] - 27s 11ms/step - loss: 2.9305\n",
            "Epoch 89/100\n",
            "2423/2423 [==============================] - 27s 11ms/step - loss: 2.9322\n",
            "Epoch 90/100\n",
            "2423/2423 [==============================] - 27s 11ms/step - loss: 2.9308\n",
            "Epoch 91/100\n",
            "2423/2423 [==============================] - 27s 11ms/step - loss: 2.9360\n",
            "Epoch 92/100\n",
            "2423/2423 [==============================] - 27s 11ms/step - loss: 2.9311\n",
            "Epoch 93/100\n",
            "2423/2423 [==============================] - 27s 11ms/step - loss: 2.9365\n",
            "Epoch 94/100\n",
            "2423/2423 [==============================] - 27s 11ms/step - loss: 2.9345\n",
            "Epoch 95/100\n",
            "2423/2423 [==============================] - 27s 11ms/step - loss: 2.9337\n",
            "Epoch 96/100\n",
            "2423/2423 [==============================] - 27s 11ms/step - loss: 2.9336\n",
            "Epoch 97/100\n",
            "2423/2423 [==============================] - 27s 11ms/step - loss: 2.9305\n",
            "Epoch 98/100\n",
            "2423/2423 [==============================] - 27s 11ms/step - loss: 2.9360\n",
            "Epoch 99/100\n",
            "2423/2423 [==============================] - 27s 11ms/step - loss: 2.9305\n",
            "Epoch 100/100\n",
            "2423/2423 [==============================] - 27s 11ms/step - loss: 2.9312\n"
          ],
          "name": "stdout"
        },
        {
          "output_type": "execute_result",
          "data": {
            "text/plain": [
              "<keras.callbacks.History at 0x7f76a16f1be0>"
            ]
          },
          "metadata": {
            "tags": []
          },
          "execution_count": 78
        }
      ]
    },
    {
      "cell_type": "code",
      "metadata": {
        "id": "zz6z2vyN7pVi",
        "colab_type": "code",
        "colab": {}
      },
      "source": [
        "string_mapped = x[20]\n",
        "full_string = [n_to_char[value] for value in string_mapped]\n",
        "# generating characters\n",
        "for i in range(100):\n",
        "    x = np.reshape(string_mapped,(1,len(string_mapped), 1))\n",
        "    x = x / float(len(characters))\n",
        "\n",
        "    pred_index = np.argmax(model.predict(x, verbose=0))\n",
        "    seq = [n_to_char[value] for value in string_mapped]\n",
        "    full_string.append(n_to_char[pred_index])\n",
        "\n",
        "    string_mapped.append(pred_index)\n",
        "    \n",
        "    string_mapped = string_mapped[1:len(string_mapped)]"
      ],
      "execution_count": 0,
      "outputs": []
    },
    {
      "cell_type": "code",
      "metadata": {
        "id": "jWCILjrS7vr4",
        "colab_type": "code",
        "colab": {
          "base_uri": "https://localhost:8080/",
          "height": 35
        },
        "outputId": "3262af8a-4aa2-41f2-e77c-c6c0f2bbeb8e"
      },
      "source": [
        "txt=\"\"\n",
        "for char in full_string:\n",
        "    txt = txt+char\n",
        "txt"
      ],
      "execution_count": 89,
      "outputs": [
        {
          "output_type": "execute_result",
          "data": {
            "text/plain": [
              "'s her by the feet. red dirt stains her face. she tries to scream, i can see because the veins in her                                                                                                    '"
            ]
          },
          "metadata": {
            "tags": []
          },
          "execution_count": 89
        }
      ]
    },
    {
      "cell_type": "code",
      "metadata": {
        "id": "wJkCJukABe0y",
        "colab_type": "code",
        "colab": {}
      },
      "source": [
        ""
      ],
      "execution_count": 0,
      "outputs": []
    }
  ]
}